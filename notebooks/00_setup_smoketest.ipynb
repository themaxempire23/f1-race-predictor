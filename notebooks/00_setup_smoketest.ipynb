{
 "cells": [
  {
   "cell_type": "markdown",
   "id": "89ac34ae-f7dd-4366-ac9d-8259da94f682",
   "metadata": {},
   "source": [
    "## Verifying interpretor"
   ]
  },
  {
   "cell_type": "code",
   "execution_count": 6,
   "id": "b0b3a95d-b9ba-4808-9771-ed50572e214a",
   "metadata": {},
   "outputs": [
    {
     "name": "stdout",
     "output_type": "stream",
     "text": [
      "Kernel python: C:\\Users\\maxnd\\AppData\\Local\\Programs\\Python\\Python310\\python.exe\n",
      "Version: 3.10.2\n",
      "Has fastf1? False\n"
     ]
    }
   ],
   "source": [
    "import sys, pkgutil\n",
    "print(\"Kernel python:\", sys.executable)\n",
    "print(\"Version:\", sys.version.split()[0])\n",
    "print(\"Has fastf1?\", pkgutil.find_loader(\"fastf1\") is not None)\n"
   ]
  },
  {
   "cell_type": "markdown",
   "id": "c57efb56-6dcb-426d-b092-4f358a4fb1a9",
   "metadata": {},
   "source": [
    "## FastF1 cache"
   ]
  },
  {
   "cell_type": "code",
   "execution_count": 7,
   "id": "85e376ff-c9ca-4dbc-b8d7-3abf7a1dd5d7",
   "metadata": {},
   "outputs": [
    {
     "name": "stdout",
     "output_type": "stream",
     "text": [
      "Installed fastf1 into this kernel.\n"
     ]
    }
   ],
   "source": [
    "import sys, subprocess\n",
    "subprocess.check_call([sys.executable, \"-m\", \"pip\", \"install\", \"fastf1==3.6.1\"])\n",
    "print(\"Installed fastf1 into this kernel.\")\n"
   ]
  },
  {
   "cell_type": "code",
   "execution_count": 8,
   "id": "9b6ad7e5-e512-4eb0-9f39-525f0bbf884b",
   "metadata": {},
   "outputs": [
    {
     "name": "stdout",
     "output_type": "stream",
     "text": [
      "FastF1 cache set to: C:\\Users\\maxnd\\Documents\\Machine Learning\\f1-race-predictor\\fastf1_cache\n"
     ]
    }
   ],
   "source": [
    "from pathlib import Path\n",
    "import fastf1\n",
    "\n",
    "cache_dir = Path.cwd().parent / \"fastf1_cache\" if Path.cwd().name == \"notebooks\" else Path.cwd() / \"fastf1_cache\"\n",
    "fastf1.Cache.enable_cache(str(cache_dir))\n",
    "print(f\"FastF1 cache set to: {cache_dir.resolve()}\")\n"
   ]
  }
 ],
 "metadata": {
  "kernelspec": {
   "display_name": "Python 3 (ipykernel)",
   "language": "python",
   "name": "python3"
  },
  "language_info": {
   "codemirror_mode": {
    "name": "ipython",
    "version": 3
   },
   "file_extension": ".py",
   "mimetype": "text/x-python",
   "name": "python",
   "nbconvert_exporter": "python",
   "pygments_lexer": "ipython3",
   "version": "3.10.2"
  }
 },
 "nbformat": 4,
 "nbformat_minor": 5
}
